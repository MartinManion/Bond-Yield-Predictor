{
 "cells": [
  {
   "cell_type": "markdown",
   "id": "e153a87f",
   "metadata": {},
   "source": [
    "# <font color=green>Final Project - Bagdonas and Manion\n",
    "    MIS 3080 - Section 001"
   ]
  },
  {
   "cell_type": "code",
   "execution_count": 58,
   "id": "1951ff82-316d-45d8-8264-ffb123b5fed1",
   "metadata": {},
   "outputs": [],
   "source": [
    "#Several Traditional SKLearn Regression models with all data"
   ]
  },
  {
   "cell_type": "markdown",
   "id": "ef14dd09",
   "metadata": {},
   "source": [
    "### Import Needed Modules"
   ]
  },
  {
   "cell_type": "code",
   "execution_count": 59,
   "id": "392fbc22",
   "metadata": {},
   "outputs": [],
   "source": [
    "#general libraries needed\n",
    "import pandas as pd\n",
    "import matplotlib.pyplot as plt\n",
    "import numpy as np\n",
    "import pickle\n",
    "\n",
    "#scikit learn imports\n",
    "from sklearn.linear_model import SGDRegressor, LinearRegression, Ridge, Lasso, ElasticNet\n",
    "from sklearn.impute import SimpleImputer\n",
    "from sklearn.preprocessing import PolynomialFeatures, OneHotEncoder, StandardScaler, OrdinalEncoder\n",
    "from sklearn.compose import ColumnTransformer\n",
    "from sklearn.pipeline import Pipeline\n",
    "from sklearn.metrics import mean_squared_error\n",
    "from sklearn.model_selection import cross_val_score, GridSearchCV, train_test_split\n",
    "\n",
    "from sklearn import set_config"
   ]
  },
  {
   "cell_type": "markdown",
   "id": "b23d145e",
   "metadata": {},
   "source": [
    "### Function Definitions"
   ]
  },
  {
   "cell_type": "code",
   "execution_count": 60,
   "id": "0c906382",
   "metadata": {},
   "outputs": [],
   "source": [
    "#function to verify the existence of a file in the current working directory and download it if not\n",
    "import os,urllib, urllib.request, sys, tarfile\n",
    "def downloadDataResource(file,sourcePath,compressed=None):\n",
    "    if not os.path.isfile(file):\n",
    "        try:\n",
    "            urllib.request.urlretrieve(sourcePath+(compressed if compressed else file),(compressed if compressed else file))\n",
    "            print(\"Downloaded\", (compressed if compressed else file) )\n",
    "            if compressed:\n",
    "                ucomp = tarfile.open(compressed)\n",
    "                ucomp.extractall()\n",
    "                ucomp.close()\n",
    "                print(\"File uncompressed.\")\n",
    "        except:\n",
    "            print(\"ERROR: File\", (compressed if compressed else file), \"not found. Data source missing.\")\n",
    "    else:\n",
    "        print(\"Data resource\", file, \"already downloaded.\")"
   ]
  },
  {
   "cell_type": "code",
   "execution_count": 61,
   "id": "eea11848",
   "metadata": {},
   "outputs": [],
   "source": [
    "#function that shows a learning curve for any model that has predict or fit methods\n",
    "from sklearn.model_selection import learning_curve\n",
    "\n",
    "def plot_learning_curve(estimator,X,y,ylim=None,cv=None,n_jobs=None,train_sizes=np.linspace(0.1, 1.0, 20),scoring = 'neg_root_mean_squared_error'):\n",
    "    \n",
    "    _, axes = plt.subplots(1, 1, figsize=(10, 5))    \n",
    "    axes.set_title('Learning Curve')\n",
    "    if ylim is not None:\n",
    "        axes.set_ylim(*ylim)\n",
    "    axes.set_xlabel(\"Training examples\")\n",
    "    axes.set_ylabel(scoring)\n",
    "\n",
    "    train_sizes, train_scores, test_scores= learning_curve(estimator,X,y,cv=cv,n_jobs=n_jobs,train_sizes=train_sizes,scoring = scoring)\n",
    "    train_scores_mean = np.mean(train_scores, axis=1)\n",
    "    train_scores_std = np.std(train_scores, axis=1)\n",
    "    test_scores_mean = np.mean(test_scores, axis=1)\n",
    "    test_scores_std = np.std(test_scores, axis=1)\n",
    "\n",
    "    # Plot learning curve\n",
    "    axes.grid()\n",
    "    axes.fill_between(train_sizes,train_scores_mean - train_scores_std,train_scores_mean + train_scores_std,alpha=0.1,color=\"r\")\n",
    "    axes.fill_between(train_sizes,test_scores_mean - test_scores_std,test_scores_mean + test_scores_std,alpha=0.1,color=\"g\")\n",
    "    axes.plot(train_sizes, train_scores_mean, \"o-\", color=\"r\", label=\"Training score\")\n",
    "    axes.plot(train_sizes, test_scores_mean, \"o-\", color=\"g\", label=\"Cross-validation score\")\n",
    "    axes.legend(loc=\"best\")\n",
    "    plt.show()\n",
    "    \n",
    "    return\n",
    "\n",
    "#code to prevent warnings that can occur as a result of this function\n",
    "from warnings import simplefilter\n",
    "from sklearn.exceptions import ConvergenceWarning\n",
    "simplefilter(\"ignore\", category=ConvergenceWarning)"
   ]
  },
  {
   "cell_type": "markdown",
   "id": "30e58c4a",
   "metadata": {},
   "source": [
    "### Source Data"
   ]
  },
  {
   "cell_type": "code",
   "execution_count": 62,
   "id": "e8023c30-3859-4e47-b7bd-a1130297ba81",
   "metadata": {},
   "outputs": [],
   "source": [
    "#define directory\n",
    "DOWNLOAD_DIR = \"C:/Users/mtman/Desktop/Junior Spring/MIS 3080\"\n",
    "\n",
    "#create the pickle file\n",
    "pickleFile = open(DOWNLOAD_DIR + \"/FinalData.pk1\",\"rb\")\n",
    "\n",
    "#X_instance = pickle.load(pickleFile)\n",
    "df = pickle.load(pickleFile)\n",
    "\n",
    "pickleFile.close()"
   ]
  },
  {
   "cell_type": "code",
   "execution_count": 63,
   "id": "d751797d-df88-4df0-b4a9-266c69fdc970",
   "metadata": {},
   "outputs": [],
   "source": [
    "## DATA PREP"
   ]
  },
  {
   "cell_type": "code",
   "execution_count": 64,
   "id": "835a9931-ef46-49fe-bab5-1fe0a42aa981",
   "metadata": {},
   "outputs": [
    {
     "data": {
      "text/plain": [
       "((3773, 17), (3773,), (944, 17), (944,))"
      ]
     },
     "execution_count": 64,
     "metadata": {},
     "output_type": "execute_result"
    }
   ],
   "source": [
    "X_train, X_test, y_train, y_test = train_test_split(\n",
    "    df.drop(columns=['YldToMtyAsk']), \n",
    "    df.YldToMtyAsk, \n",
    "    test_size=.2, \n",
    "    random_state=32\n",
    ")\n",
    "\n",
    "X_train.shape, y_train.shape, X_test.shape, y_test.shape"
   ]
  },
  {
   "cell_type": "code",
   "execution_count": 65,
   "id": "5561f6b6-c779-42bb-bef9-3b8fcd2c52ee",
   "metadata": {},
   "outputs": [],
   "source": [
    "#Pipeline\n",
    "cat_attribs = [\"BBG_Composite\", \"MtyType\", \"Currency\"]\n",
    "\n",
    "ord_attribs = ['ESGrating', \"FitchRating\", \"MoodyRtg\", \"SP_Rating\"]\n",
    "\n",
    "esg_ord = ['N.S.', 'CCC', 'B', 'BB', 'BBB', 'A', 'AA', 'AAA']\n",
    "\n",
    "fitch_ord = ['Missing', 'WD', 'NR', 'C', 'CC', 'CCC', 'B-', 'B', 'B+',\n",
    "            'BB-', 'BB', 'BB+', 'BBB-', 'BBB','BBB+','A-','A','A+',\n",
    "            'AA-','AA','AA+','AAA-','AAA','AAA+']\n",
    "\n",
    "moody_ord = ['Missing', 'WR', 'NR', 'C', 'Ca','Caa3','Caa2','Caa1',\n",
    "             'B3','B2','B1','Ba3','Ba2','Ba1','Baa3','Baa2','Baa1',\n",
    "             'A3','A2','A1','Aa3','Aa2','Aa1','Aaa']\n",
    "\n",
    "sp_ord = ['Missing', 'NR', 'D', 'CCC-', 'CCC', 'CCC+','B-', 'B', 'B+', \n",
    "          'BB-', 'BB', 'BB+', 'BBB-', 'BBB', 'BBB+', 'A-', 'A', 'A+', 'AA-', 'AA', 'AAA']\n",
    "\n",
    "ord_mappings = [esg_ord] + [fitch_ord] + [moody_ord] + [sp_ord]\n",
    "\n",
    "#set the numerical attributes\n",
    "num_attribs = list( X_train.drop(columns=cat_attribs+ord_attribs,axis=1) )\n",
    "\n",
    "\n",
    "#define pipeline for numeric attributes (this code is just a definition)\n",
    "#each numeric attribute will be imputated using the Median strategy\n",
    "#each numeric attribute will be scaled using Standard Scaler (works better for traditional SKLearn models)\n",
    "num_pipeline = Pipeline( [\n",
    " ('imputer', SimpleImputer(strategy=\"median\")), \n",
    " ('std_scaler', StandardScaler()),   \n",
    "])\n",
    "\n",
    "ord_pipeline = Pipeline( [\n",
    "    ('imputer', SimpleImputer(strategy=\"most_frequent\")),\n",
    "    ('ord', OrdinalEncoder(categories=ord_mappings))\n",
    "])\n",
    "#define the pipeline process for the data set\n",
    "full_pipeline = ColumnTransformer( [\n",
    "    ('num', num_pipeline, num_attribs),\n",
    "    ('ord', ord_pipeline, ord_attribs),\n",
    "    ('cat', OneHotEncoder(sparse=False), cat_attribs)    \n",
    "])"
   ]
  },
  {
   "cell_type": "code",
   "execution_count": 66,
   "id": "cce16b47-5123-489a-ae19-3c9f740ee408",
   "metadata": {},
   "outputs": [
    {
     "data": {
      "text/plain": [
       "((3773, 72), (944, 72))"
      ]
     },
     "execution_count": 66,
     "metadata": {},
     "output_type": "execute_result"
    }
   ],
   "source": [
    "#create an array of prepared data based on the training data set and the Pipeline process defined above\n",
    "X_train = full_pipeline.fit_transform( X_train)\n",
    "X_test = full_pipeline.transform( X_test )\n",
    "\n",
    "X_train.shape, X_test.shape"
   ]
  },
  {
   "cell_type": "code",
   "execution_count": 67,
   "id": "700b3c2f-7572-4380-9f86-ea0ccfeb09cf",
   "metadata": {},
   "outputs": [
    {
     "name": "stdout",
     "output_type": "stream",
     "text": [
      "Naive ERROR: 7.38\n"
     ]
    }
   ],
   "source": [
    "#predcition is based on mean value\n",
    "baseline_prediction = y_test.mean()\n",
    "\n",
    "#populate an array with the baseline prediction value\n",
    "predictions = np.full(shape=y_test.shape[0], fill_value = baseline_prediction)\n",
    "\n",
    "#unscale predicted values\n",
    "actual= y_test\n",
    "\n",
    "#calculate the root mean square error between the prediction and the actual\n",
    "naive = mean_squared_error(predictions, actual, squared=False)\n",
    "print( 'Naive ERROR: {:,.2f}'.format(naive) )"
   ]
  },
  {
   "cell_type": "markdown",
   "id": "696c27ea",
   "metadata": {},
   "source": [
    "### Linear Regression"
   ]
  },
  {
   "cell_type": "code",
   "execution_count": 68,
   "id": "1acffc39",
   "metadata": {},
   "outputs": [
    {
     "name": "stdout",
     "output_type": "stream",
     "text": [
      "Prediction Error (RMSE): 6.0028\n"
     ]
    }
   ],
   "source": [
    "#create a linear regression model\n",
    "lin_reg=LinearRegression()\n",
    "\n",
    "#fit the model to the training data set\n",
    "lin_reg.fit(X_train, y_train)\n",
    "\n",
    "#calculated the predicted values for the training data set\n",
    "predictions = lin_reg.predict(X_train)\n",
    "\n",
    "#compare the predicted to the actuals\n",
    "rmse = mean_squared_error(y_train,predictions, squared=False)\n",
    "print(\"Prediction Error (RMSE): {:,.4f}\".format(rmse))"
   ]
  },
  {
   "cell_type": "code",
   "execution_count": 69,
   "id": "c7716d3f",
   "metadata": {},
   "outputs": [
    {
     "name": "stdout",
     "output_type": "stream",
     "text": [
      "RMSE: 11.4953\n"
     ]
    }
   ],
   "source": [
    "# cross validation \n",
    "\n",
    "#run cross validation\n",
    "scores = cross_val_score(lin_reg, X_train, y_train, scoring=\"neg_root_mean_squared_error\", cv=10)\n",
    "\n",
    "#report the results\n",
    "print(\"RMSE: {:,.4f}\".format( -scores.mean() ) )"
   ]
  },
  {
   "cell_type": "code",
   "execution_count": 70,
   "id": "339fa3b6",
   "metadata": {},
   "outputs": [
    {
     "data": {
      "text/plain": [
       "array([ -5.68259403, -14.37699737,  -4.80930078,  -6.56105676,\n",
       "       -52.51230906,  -6.65061392,  -5.61685773,  -8.10740917,\n",
       "        -4.8214267 ,  -5.8145764 ])"
      ]
     },
     "execution_count": 70,
     "metadata": {},
     "output_type": "execute_result"
    }
   ],
   "source": [
    "#the mean value is being heavily influenced by the one outlier score... not a great model\n",
    "scores"
   ]
  },
  {
   "cell_type": "code",
   "execution_count": 71,
   "id": "f5d95e94",
   "metadata": {},
   "outputs": [
    {
     "name": "stdout",
     "output_type": "stream",
     "text": [
      "Prediction Error (RMSE): 4.9986\n"
     ]
    }
   ],
   "source": [
    "#use the linear regression model and evaluate the test data set\n",
    "predictions = lin_reg.predict(X_test)\n",
    "\n",
    "#compare the predicted to the actuals\n",
    "rmse = mean_squared_error(y_test,predictions, squared=False)\n",
    "print(\"Prediction Error (RMSE): {:,.4f}\".format(rmse))"
   ]
  },
  {
   "cell_type": "code",
   "execution_count": 72,
   "id": "a4645678",
   "metadata": {},
   "outputs": [
    {
     "data": {
      "image/png": "[encoded data removed]",
      "text/plain": [
       "<Figure size 720x360 with 1 Axes>"
      ]
     },
     "metadata": {
      "needs_background": "light"
     },
     "output_type": "display_data"
    }
   ],
   "source": [
    "plot_learning_curve(lin_reg, X_train, y_train)"
   ]
  },
  {
   "cell_type": "code",
   "execution_count": 73,
   "id": "acedbd60-9dc7-4d46-8e27-8a55e10336d7",
   "metadata": {},
   "outputs": [
    {
     "name": "stdout",
     "output_type": "stream",
     "text": [
      "Prediction       6.76  ---  Actual       4.95\n",
      "Prediction       7.17  ---  Actual       2.97\n",
      "Prediction      18.89  ---  Actual       4.45\n"
     ]
    }
   ],
   "source": [
    "#print using format\n",
    "for x in range(0,3):\n",
    "    print( \"Prediction {:10,.2f}  ---  Actual {:10,.2f}\".format( float(predictions[x:x+1]), float(y_test[x:x+1]) ) )"
   ]
  },
  {
   "cell_type": "markdown",
   "id": "95b1087c",
   "metadata": {},
   "source": [
    "### Ridge Regression"
   ]
  },
  {
   "cell_type": "code",
   "execution_count": 74,
   "id": "f87390b0",
   "metadata": {},
   "outputs": [
    {
     "name": "stdout",
     "output_type": "stream",
     "text": [
      "Prediction Error (RMSE): 6.0183\n"
     ]
    }
   ],
   "source": [
    "#create a Ridge Regression model (adds in regularization)\n",
    "ridge_reg=Ridge(alpha=1, solver='auto')\n",
    "\n",
    "#fit the model to the training data set\n",
    "ridge_reg.fit(X_train, y_train)\n",
    "\n",
    "#calculated the predicted values for the training data set\n",
    "predictions = ridge_reg.predict(X_train)\n",
    "\n",
    "#compare the predicted to the actuals\n",
    "rmse = mean_squared_error(y_train,predictions, squared=False)\n",
    "print(\"Prediction Error (RMSE): {:,.4f}\".format(rmse))"
   ]
  },
  {
   "cell_type": "code",
   "execution_count": 75,
   "id": "eab2f814",
   "metadata": {},
   "outputs": [
    {
     "name": "stdout",
     "output_type": "stream",
     "text": [
      "RMSE: 7.0230\n"
     ]
    }
   ],
   "source": [
    "#run cross validation\n",
    "scores = cross_val_score(ridge_reg, X_train, y_train, scoring=\"neg_root_mean_squared_error\", cv=10)\n",
    "\n",
    "#report the results\n",
    "print(\"RMSE: {:,.4f}\".format( -scores.mean() ) )"
   ]
  },
  {
   "cell_type": "code",
   "execution_count": 76,
   "id": "051a9912",
   "metadata": {},
   "outputs": [
    {
     "name": "stdout",
     "output_type": "stream",
     "text": [
      "Prediction Error (RMSE): 4.9512\n"
     ]
    }
   ],
   "source": [
    "#use the ridge regression model and evaluate the test data set\n",
    "predictions = ridge_reg.predict(X_test)\n",
    "\n",
    "#compare the predicted to the actuals\n",
    "rmse = mean_squared_error(y_test,predictions, squared=False)\n",
    "print(\"Prediction Error (RMSE): {:,.4f}\".format(rmse))"
   ]
  },
  {
   "cell_type": "code",
   "execution_count": 77,
   "id": "3edc9e29",
   "metadata": {},
   "outputs": [
    {
     "data": {
      "text/html": [
       "<style>div.sk-top-container {color: black;background-color: white;}div.sk-toggleable {background-color: white;}label.sk-toggleable__label {cursor: pointer;display: block;width: 100%;margin-bottom: 0;padding: 0.2em 0.3em;box-sizing: border-box;text-align: center;}div.sk-toggleable__content {max-height: 0;max-width: 0;overflow: hidden;text-align: left;background-color: #f0f8ff;}div.sk-toggleable__content pre {margin: 0.2em;color: black;border-radius: 0.25em;background-color: #f0f8ff;}input.sk-toggleable__control:checked~div.sk-toggleable__content {max-height: 200px;max-width: 100%;overflow: auto;}div.sk-estimator input.sk-toggleable__control:checked~label.sk-toggleable__label {background-color: #d4ebff;}div.sk-label input.sk-toggleable__control:checked~label.sk-toggleable__label {background-color: #d4ebff;}input.sk-hidden--visually {border: 0;clip: rect(1px 1px 1px 1px);clip: rect(1px, 1px, 1px, 1px);height: 1px;margin: -1px;overflow: hidden;padding: 0;position: absolute;width: 1px;}div.sk-estimator {font-family: monospace;background-color: #f0f8ff;margin: 0.25em 0.25em;border: 1px dotted black;border-radius: 0.25em;box-sizing: border-box;}div.sk-estimator:hover {background-color: #d4ebff;}div.sk-parallel-item::after {content: \"\";width: 100%;border-bottom: 1px solid gray;flex-grow: 1;}div.sk-label:hover label.sk-toggleable__label {background-color: #d4ebff;}div.sk-serial::before {content: \"\";position: absolute;border-left: 1px solid gray;box-sizing: border-box;top: 2em;bottom: 0;left: 50%;}div.sk-serial {display: flex;flex-direction: column;align-items: center;background-color: white;}div.sk-item {z-index: 1;}div.sk-parallel {display: flex;align-items: stretch;justify-content: center;background-color: white;}div.sk-parallel-item {display: flex;flex-direction: column;position: relative;background-color: white;}div.sk-parallel-item:first-child::after {align-self: flex-end;width: 50%;}div.sk-parallel-item:last-child::after {align-self: flex-start;width: 50%;}div.sk-parallel-item:only-child::after {width: 0;}div.sk-dashed-wrapped {border: 1px dashed gray;margin: 0.2em;box-sizing: border-box;padding-bottom: 0.1em;background-color: white;position: relative;}div.sk-label label {font-family: monospace;font-weight: bold;background-color: white;display: inline-block;line-height: 1.2em;}div.sk-label-container {position: relative;z-index: 2;text-align: center;}div.sk-container {display: inline-block;position: relative;}</style><div class=\"sk-top-container\"><div class=\"sk-container\"><div class=\"sk-item sk-dashed-wrapped\"><div class=\"sk-label-container\"><div class=\"sk-label sk-toggleable\"><input class=\"sk-toggleable__control sk-hidden--visually\" id=\"ea877b51-3662-4033-bb9d-53a2f6606ff6\" type=\"checkbox\" ><label class=\"sk-toggleable__label\" for=\"ea877b51-3662-4033-bb9d-53a2f6606ff6\">GridSearchCV</label><div class=\"sk-toggleable__content\"><pre>GridSearchCV(cv=10, estimator=Ridge(),\n",
       "             param_grid=[{'alpha': [1, 2, 5, 10],\n",
       "                          'solver': ['auto', 'svd', 'cholesky', 'lsqr',\n",
       "                                     'sparse_cg', 'saga']}],\n",
       "             return_train_score=True, scoring='neg_root_mean_squared_error')</pre></div></div></div><div class=\"sk-parallel\"><div class=\"sk-parallel-item\"><div class=\"sk-item\"><div class=\"sk-serial\"><div class=\"sk-item\"><div class=\"sk-estimator sk-toggleable\"><input class=\"sk-toggleable__control sk-hidden--visually\" id=\"5410f8ca-1dd1-4562-a65a-4583694dc7e9\" type=\"checkbox\" ><label class=\"sk-toggleable__label\" for=\"5410f8ca-1dd1-4562-a65a-4583694dc7e9\">Ridge</label><div class=\"sk-toggleable__content\"><pre>Ridge()</pre></div></div></div></div></div></div></div></div></div></div>"
      ],
      "text/plain": [
       "GridSearchCV(cv=10, estimator=Ridge(),\n",
       "             param_grid=[{'alpha': [1, 2, 5, 10],\n",
       "                          'solver': ['auto', 'svd', 'cholesky', 'lsqr',\n",
       "                                     'sparse_cg', 'saga']}],\n",
       "             return_train_score=True, scoring='neg_root_mean_squared_error')"
      ]
     },
     "execution_count": 77,
     "metadata": {},
     "output_type": "execute_result"
    }
   ],
   "source": [
    "#create a parameter grid that determines the variable hyperparameters\n",
    "param_grid = [\n",
    "    # try all solvers available to Ridge Regression and a few values for alpha\n",
    "    {'solver':['auto', 'svd', 'cholesky', 'lsqr', 'sparse_cg', 'saga'],\n",
    "     'alpha': [1, 2, 5, 10]}\n",
    "]\n",
    "\n",
    "# train across 10 folds, that's a total of (4*6)*10=240 rounds of training \n",
    "grid_search = GridSearchCV(Ridge(), param_grid, cv=10,\n",
    "                           scoring='neg_root_mean_squared_error',\n",
    "                           return_train_score=True)\n",
    "\n",
    "#fit the data to the model\n",
    "grid_search.fit(X_train, y_train)"
   ]
  },
  {
   "cell_type": "code",
   "execution_count": 78,
   "id": "d2a81a05",
   "metadata": {},
   "outputs": [
    {
     "name": "stdout",
     "output_type": "stream",
     "text": [
      "RMSE: 7.0230 - {'alpha': 1, 'solver': 'auto'}\n",
      "RMSE: 7.0230 - {'alpha': 1, 'solver': 'svd'}\n",
      "RMSE: 7.0230 - {'alpha': 1, 'solver': 'cholesky'}\n",
      "RMSE: 6.9586 - {'alpha': 1, 'solver': 'lsqr'}\n",
      "RMSE: 6.8355 - {'alpha': 1, 'solver': 'sparse_cg'}\n",
      "RMSE: 6.9183 - {'alpha': 1, 'solver': 'saga'}\n",
      "RMSE: 6.8881 - {'alpha': 2, 'solver': 'auto'}\n",
      "RMSE: 6.8881 - {'alpha': 2, 'solver': 'svd'}\n",
      "RMSE: 6.8881 - {'alpha': 2, 'solver': 'cholesky'}\n",
      "RMSE: 6.9472 - {'alpha': 2, 'solver': 'lsqr'}\n",
      "RMSE: 6.8435 - {'alpha': 2, 'solver': 'sparse_cg'}\n",
      "RMSE: 6.9247 - {'alpha': 2, 'solver': 'saga'}\n",
      "RMSE: 6.8861 - {'alpha': 5, 'solver': 'auto'}\n",
      "RMSE: 6.8861 - {'alpha': 5, 'solver': 'svd'}\n",
      "RMSE: 6.8861 - {'alpha': 5, 'solver': 'cholesky'}\n",
      "RMSE: 6.9846 - {'alpha': 5, 'solver': 'lsqr'}\n",
      "RMSE: 6.8862 - {'alpha': 5, 'solver': 'sparse_cg'}\n",
      "RMSE: 6.9423 - {'alpha': 5, 'solver': 'saga'}\n",
      "RMSE: 6.9282 - {'alpha': 10, 'solver': 'auto'}\n",
      "RMSE: 6.9282 - {'alpha': 10, 'solver': 'svd'}\n",
      "RMSE: 6.9282 - {'alpha': 10, 'solver': 'cholesky'}\n",
      "RMSE: 6.9953 - {'alpha': 10, 'solver': 'lsqr'}\n",
      "RMSE: 6.9298 - {'alpha': 10, 'solver': 'sparse_cg'}\n",
      "RMSE: 6.9633 - {'alpha': 10, 'solver': 'saga'}\n"
     ]
    }
   ],
   "source": [
    "#print the RMSE results from the CV and the paramaters used during each run \n",
    "cvres = grid_search.cv_results_\n",
    "for mean_score, params in zip(cvres[\"mean_test_score\"], cvres[\"params\"]):\n",
    "    print(\"RMSE: {:,.4f} - {}\".format( -mean_score, params) )"
   ]
  },
  {
   "cell_type": "code",
   "execution_count": 79,
   "id": "ee63d11f",
   "metadata": {},
   "outputs": [
    {
     "data": {
      "text/plain": [
       "{'alpha': 1, 'solver': 'sparse_cg'}"
      ]
     },
     "execution_count": 79,
     "metadata": {},
     "output_type": "execute_result"
    }
   ],
   "source": [
    "#display the best soluiton\n",
    "grid_search.best_params_"
   ]
  },
  {
   "cell_type": "code",
   "execution_count": 80,
   "id": "1ae63a74",
   "metadata": {},
   "outputs": [
    {
     "data": {
      "text/html": [
       "<style>div.sk-top-container {color: black;background-color: white;}div.sk-toggleable {background-color: white;}label.sk-toggleable__label {cursor: pointer;display: block;width: 100%;margin-bottom: 0;padding: 0.2em 0.3em;box-sizing: border-box;text-align: center;}div.sk-toggleable__content {max-height: 0;max-width: 0;overflow: hidden;text-align: left;background-color: #f0f8ff;}div.sk-toggleable__content pre {margin: 0.2em;color: black;border-radius: 0.25em;background-color: #f0f8ff;}input.sk-toggleable__control:checked~div.sk-toggleable__content {max-height: 200px;max-width: 100%;overflow: auto;}div.sk-estimator input.sk-toggleable__control:checked~label.sk-toggleable__label {background-color: #d4ebff;}div.sk-label input.sk-toggleable__control:checked~label.sk-toggleable__label {background-color: #d4ebff;}input.sk-hidden--visually {border: 0;clip: rect(1px 1px 1px 1px);clip: rect(1px, 1px, 1px, 1px);height: 1px;margin: -1px;overflow: hidden;padding: 0;position: absolute;width: 1px;}div.sk-estimator {font-family: monospace;background-color: #f0f8ff;margin: 0.25em 0.25em;border: 1px dotted black;border-radius: 0.25em;box-sizing: border-box;}div.sk-estimator:hover {background-color: #d4ebff;}div.sk-parallel-item::after {content: \"\";width: 100%;border-bottom: 1px solid gray;flex-grow: 1;}div.sk-label:hover label.sk-toggleable__label {background-color: #d4ebff;}div.sk-serial::before {content: \"\";position: absolute;border-left: 1px solid gray;box-sizing: border-box;top: 2em;bottom: 0;left: 50%;}div.sk-serial {display: flex;flex-direction: column;align-items: center;background-color: white;}div.sk-item {z-index: 1;}div.sk-parallel {display: flex;align-items: stretch;justify-content: center;background-color: white;}div.sk-parallel-item {display: flex;flex-direction: column;position: relative;background-color: white;}div.sk-parallel-item:first-child::after {align-self: flex-end;width: 50%;}div.sk-parallel-item:last-child::after {align-self: flex-start;width: 50%;}div.sk-parallel-item:only-child::after {width: 0;}div.sk-dashed-wrapped {border: 1px dashed gray;margin: 0.2em;box-sizing: border-box;padding-bottom: 0.1em;background-color: white;position: relative;}div.sk-label label {font-family: monospace;font-weight: bold;background-color: white;display: inline-block;line-height: 1.2em;}div.sk-label-container {position: relative;z-index: 2;text-align: center;}div.sk-container {display: inline-block;position: relative;}</style><div class=\"sk-top-container\"><div class=\"sk-container\"><div class=\"sk-item\"><div class=\"sk-estimator sk-toggleable\"><input class=\"sk-toggleable__control sk-hidden--visually\" id=\"e81552f8-289e-43f6-88c7-8b2a1c5d974b\" type=\"checkbox\" checked><label class=\"sk-toggleable__label\" for=\"e81552f8-289e-43f6-88c7-8b2a1c5d974b\">Ridge</label><div class=\"sk-toggleable__content\"><pre>Ridge(alpha=1, solver='sparse_cg')</pre></div></div></div></div></div>"
      ],
      "text/plain": [
       "Ridge(alpha=1, solver='sparse_cg')"
      ]
     },
     "execution_count": 80,
     "metadata": {},
     "output_type": "execute_result"
    }
   ],
   "source": [
    "#use the parameters found above to create the model\n",
    "model = Ridge(**grid_search.best_params_)\n",
    "\n",
    "#fit the model to the training data set\n",
    "model.fit(X_train, y_train)"
   ]
  },
  {
   "cell_type": "code",
   "execution_count": 81,
   "id": "a66e682e",
   "metadata": {},
   "outputs": [
    {
     "name": "stdout",
     "output_type": "stream",
     "text": [
      "Prediction Error (RMSE): 4.9616\n"
     ]
    }
   ],
   "source": [
    "#use the best ridge regression model and evaluate the test data set\n",
    "predictions = model.predict(X_test)\n",
    "\n",
    "#compare the predicted to the actuals\n",
    "rmse = mean_squared_error(y_test, predictions, squared=False)\n",
    "print(\"Prediction Error (RMSE): {:,.4f}\".format(rmse))"
   ]
  },
  {
   "cell_type": "code",
   "execution_count": 82,
   "id": "2c5cfcd7-93f1-4a20-bf91-01cb3f8854c0",
   "metadata": {},
   "outputs": [
    {
     "data": {
      "image/png": "[encoded data removed]",
      "text/plain": [
       "<Figure size 720x360 with 1 Axes>"
      ]
     },
     "metadata": {
      "needs_background": "light"
     },
     "output_type": "display_data"
    }
   ],
   "source": [
    "#plotting learning curve\n",
    "plot_learning_curve(model, X_train, y_train)"
   ]
  },
  {
   "cell_type": "code",
   "execution_count": 83,
   "id": "c2f56a36-4d63-4e06-883a-956a9de88f7d",
   "metadata": {},
   "outputs": [
    {
     "name": "stdout",
     "output_type": "stream",
     "text": [
      "Prediction       7.41  ---  Actual       4.95\n",
      "Prediction       7.24  ---  Actual       2.97\n",
      "Prediction      19.16  ---  Actual       4.45\n"
     ]
    }
   ],
   "source": [
    "#print using format\n",
    "for x in range(0,3):\n",
    "    print( \"Prediction {:10,.2f}  ---  Actual {:10,.2f}\".format( float(predictions[x:x+1]), float(y_test[x:x+1]) ) )"
   ]
  },
  {
   "cell_type": "markdown",
   "id": "b559620d",
   "metadata": {},
   "source": [
    "### SGD Regression"
   ]
  },
  {
   "cell_type": "code",
   "execution_count": 84,
   "id": "7589ff04",
   "metadata": {},
   "outputs": [
    {
     "name": "stdout",
     "output_type": "stream",
     "text": [
      "Prediction Error (RMSE): 6.5279\n"
     ]
    }
   ],
   "source": [
    "#create a Stocahstic Gradiant Descent Regressor object\n",
    "sgd_reg = SGDRegressor(max_iter=1000, tol=.01, penalty=\"l2\", eta0=.001)\n",
    "\n",
    "#fit the model to the training data\n",
    "sgd_reg.fit(X_train, y_train)\n",
    "\n",
    "#calcualte the predicted values\n",
    "predictions = sgd_reg.predict(X_train)\n",
    "\n",
    "#compare the predicted to the actuals to evaluate the model\n",
    "rmse = mean_squared_error(y_train,predictions,squared=False)\n",
    "print(\"Prediction Error (RMSE): {:,.4f}\".format(rmse))"
   ]
  },
  {
   "cell_type": "code",
   "execution_count": 85,
   "id": "39a7bffa",
   "metadata": {},
   "outputs": [
    {
     "name": "stdout",
     "output_type": "stream",
     "text": [
      "RMSE: 7.1821\n"
     ]
    }
   ],
   "source": [
    "#run cross validation\n",
    "scores = cross_val_score(sgd_reg, X_train, y_train, scoring=\"neg_root_mean_squared_error\", cv=10)\n",
    "\n",
    "#report the results\n",
    "print(\"RMSE: {:,.4f}\".format( -scores.mean() ) )"
   ]
  },
  {
   "cell_type": "code",
   "execution_count": 86,
   "id": "e3ff324a",
   "metadata": {},
   "outputs": [
    {
     "data": {
      "text/html": [
       "<style>div.sk-top-container {color: black;background-color: white;}div.sk-toggleable {background-color: white;}label.sk-toggleable__label {cursor: pointer;display: block;width: 100%;margin-bottom: 0;padding: 0.2em 0.3em;box-sizing: border-box;text-align: center;}div.sk-toggleable__content {max-height: 0;max-width: 0;overflow: hidden;text-align: left;background-color: #f0f8ff;}div.sk-toggleable__content pre {margin: 0.2em;color: black;border-radius: 0.25em;background-color: #f0f8ff;}input.sk-toggleable__control:checked~div.sk-toggleable__content {max-height: 200px;max-width: 100%;overflow: auto;}div.sk-estimator input.sk-toggleable__control:checked~label.sk-toggleable__label {background-color: #d4ebff;}div.sk-label input.sk-toggleable__control:checked~label.sk-toggleable__label {background-color: #d4ebff;}input.sk-hidden--visually {border: 0;clip: rect(1px 1px 1px 1px);clip: rect(1px, 1px, 1px, 1px);height: 1px;margin: -1px;overflow: hidden;padding: 0;position: absolute;width: 1px;}div.sk-estimator {font-family: monospace;background-color: #f0f8ff;margin: 0.25em 0.25em;border: 1px dotted black;border-radius: 0.25em;box-sizing: border-box;}div.sk-estimator:hover {background-color: #d4ebff;}div.sk-parallel-item::after {content: \"\";width: 100%;border-bottom: 1px solid gray;flex-grow: 1;}div.sk-label:hover label.sk-toggleable__label {background-color: #d4ebff;}div.sk-serial::before {content: \"\";position: absolute;border-left: 1px solid gray;box-sizing: border-box;top: 2em;bottom: 0;left: 50%;}div.sk-serial {display: flex;flex-direction: column;align-items: center;background-color: white;}div.sk-item {z-index: 1;}div.sk-parallel {display: flex;align-items: stretch;justify-content: center;background-color: white;}div.sk-parallel-item {display: flex;flex-direction: column;position: relative;background-color: white;}div.sk-parallel-item:first-child::after {align-self: flex-end;width: 50%;}div.sk-parallel-item:last-child::after {align-self: flex-start;width: 50%;}div.sk-parallel-item:only-child::after {width: 0;}div.sk-dashed-wrapped {border: 1px dashed gray;margin: 0.2em;box-sizing: border-box;padding-bottom: 0.1em;background-color: white;position: relative;}div.sk-label label {font-family: monospace;font-weight: bold;background-color: white;display: inline-block;line-height: 1.2em;}div.sk-label-container {position: relative;z-index: 2;text-align: center;}div.sk-container {display: inline-block;position: relative;}</style><div class=\"sk-top-container\"><div class=\"sk-container\"><div class=\"sk-item sk-dashed-wrapped\"><div class=\"sk-label-container\"><div class=\"sk-label sk-toggleable\"><input class=\"sk-toggleable__control sk-hidden--visually\" id=\"a1367a18-7542-4828-9448-eeb578c1d339\" type=\"checkbox\" ><label class=\"sk-toggleable__label\" for=\"a1367a18-7542-4828-9448-eeb578c1d339\">GridSearchCV</label><div class=\"sk-toggleable__content\"><pre>GridSearchCV(cv=10, estimator=SGDRegressor(),\n",
       "             param_grid=[{'eta0': [0.001, 0.01, 0.1], 'max_iter': [1000, 10000],\n",
       "                          'penalty': ['None', 'l2'],\n",
       "                          'tol': [0.001, 0.01, 0.1]}],\n",
       "             return_train_score=True, scoring='neg_root_mean_squared_error')</pre></div></div></div><div class=\"sk-parallel\"><div class=\"sk-parallel-item\"><div class=\"sk-item\"><div class=\"sk-serial\"><div class=\"sk-item\"><div class=\"sk-estimator sk-toggleable\"><input class=\"sk-toggleable__control sk-hidden--visually\" id=\"0123dbb8-240b-4488-8a6a-a874c18ad2a2\" type=\"checkbox\" ><label class=\"sk-toggleable__label\" for=\"0123dbb8-240b-4488-8a6a-a874c18ad2a2\">SGDRegressor</label><div class=\"sk-toggleable__content\"><pre>SGDRegressor()</pre></div></div></div></div></div></div></div></div></div></div>"
      ],
      "text/plain": [
       "GridSearchCV(cv=10, estimator=SGDRegressor(),\n",
       "             param_grid=[{'eta0': [0.001, 0.01, 0.1], 'max_iter': [1000, 10000],\n",
       "                          'penalty': ['None', 'l2'],\n",
       "                          'tol': [0.001, 0.01, 0.1]}],\n",
       "             return_train_score=True, scoring='neg_root_mean_squared_error')"
      ]
     },
     "execution_count": 86,
     "metadata": {},
     "output_type": "execute_result"
    }
   ],
   "source": [
    "#create a parameter grid that determines the variable hyperparameters\n",
    "param_grid = [\n",
    "    {'max_iter': [1000, 10000], 'eta0': [ .001, .01, .1],\n",
    "     'tol': [.001, .01, .1],'penalty':['None', 'l2']},\n",
    "  ]\n",
    "\n",
    "# train across 10 folds, that's a total of (2*3*3*2)*10=360 rounds of training \n",
    "grid_search = GridSearchCV(SGDRegressor(), param_grid, cv=10,\n",
    "                           scoring='neg_root_mean_squared_error',\n",
    "                           return_train_score=True)\n",
    "\n",
    "#fit the data to the model\n",
    "grid_search.fit(X_train, y_train)"
   ]
  },
  {
   "cell_type": "code",
   "execution_count": 87,
   "id": "fe5ab029",
   "metadata": {},
   "outputs": [
    {
     "name": "stdout",
     "output_type": "stream",
     "text": [
      "RMSE: 7.1713 - {'eta0': 0.001, 'max_iter': 1000, 'penalty': 'None', 'tol': 0.001}\n",
      "RMSE: 7.1816 - {'eta0': 0.001, 'max_iter': 1000, 'penalty': 'None', 'tol': 0.01}\n",
      "RMSE: 7.1523 - {'eta0': 0.001, 'max_iter': 1000, 'penalty': 'None', 'tol': 0.1}\n",
      "RMSE: 7.1603 - {'eta0': 0.001, 'max_iter': 1000, 'penalty': 'l2', 'tol': 0.001}\n",
      "RMSE: 7.1738 - {'eta0': 0.001, 'max_iter': 1000, 'penalty': 'l2', 'tol': 0.01}\n",
      "RMSE: 7.1510 - {'eta0': 0.001, 'max_iter': 1000, 'penalty': 'l2', 'tol': 0.1}\n",
      "RMSE: 7.1575 - {'eta0': 0.001, 'max_iter': 10000, 'penalty': 'None', 'tol': 0.001}\n",
      "RMSE: 7.1813 - {'eta0': 0.001, 'max_iter': 10000, 'penalty': 'None', 'tol': 0.01}\n",
      "RMSE: 7.1418 - {'eta0': 0.001, 'max_iter': 10000, 'penalty': 'None', 'tol': 0.1}\n",
      "RMSE: 7.1521 - {'eta0': 0.001, 'max_iter': 10000, 'penalty': 'l2', 'tol': 0.001}\n",
      "RMSE: 7.1731 - {'eta0': 0.001, 'max_iter': 10000, 'penalty': 'l2', 'tol': 0.01}\n",
      "RMSE: 7.1661 - {'eta0': 0.001, 'max_iter': 10000, 'penalty': 'l2', 'tol': 0.1}\n",
      "RMSE: 1,156,058.0479 - {'eta0': 0.01, 'max_iter': 1000, 'penalty': 'None', 'tol': 0.001}\n",
      "RMSE: 700,938.0730 - {'eta0': 0.01, 'max_iter': 1000, 'penalty': 'None', 'tol': 0.01}\n",
      "RMSE: 27,676.5750 - {'eta0': 0.01, 'max_iter': 1000, 'penalty': 'None', 'tol': 0.1}\n",
      "RMSE: 62,847.2202 - {'eta0': 0.01, 'max_iter': 1000, 'penalty': 'l2', 'tol': 0.001}\n",
      "RMSE: 1,345,294.8324 - {'eta0': 0.01, 'max_iter': 1000, 'penalty': 'l2', 'tol': 0.01}\n",
      "RMSE: 1,618,546.1409 - {'eta0': 0.01, 'max_iter': 1000, 'penalty': 'l2', 'tol': 0.1}\n",
      "RMSE: 49,219,228.8426 - {'eta0': 0.01, 'max_iter': 10000, 'penalty': 'None', 'tol': 0.001}\n",
      "RMSE: 40,912.8665 - {'eta0': 0.01, 'max_iter': 10000, 'penalty': 'None', 'tol': 0.01}\n",
      "RMSE: 181,299.7963 - {'eta0': 0.01, 'max_iter': 10000, 'penalty': 'None', 'tol': 0.1}\n",
      "RMSE: 8,494.9998 - {'eta0': 0.01, 'max_iter': 10000, 'penalty': 'l2', 'tol': 0.001}\n",
      "RMSE: 103,619.8663 - {'eta0': 0.01, 'max_iter': 10000, 'penalty': 'l2', 'tol': 0.01}\n",
      "RMSE: 2,379,958.4060 - {'eta0': 0.01, 'max_iter': 10000, 'penalty': 'l2', 'tol': 0.1}\n",
      "RMSE: 722,162,578,318.9852 - {'eta0': 0.1, 'max_iter': 1000, 'penalty': 'None', 'tol': 0.001}\n",
      "RMSE: 550,729,385,871.7000 - {'eta0': 0.1, 'max_iter': 1000, 'penalty': 'None', 'tol': 0.01}\n",
      "RMSE: 599,522,075,676.1434 - {'eta0': 0.1, 'max_iter': 1000, 'penalty': 'None', 'tol': 0.1}\n",
      "RMSE: 853,673,264,443.7893 - {'eta0': 0.1, 'max_iter': 1000, 'penalty': 'l2', 'tol': 0.001}\n",
      "RMSE: 613,085,088,945.7272 - {'eta0': 0.1, 'max_iter': 1000, 'penalty': 'l2', 'tol': 0.01}\n",
      "RMSE: 648,844,888,767.4236 - {'eta0': 0.1, 'max_iter': 1000, 'penalty': 'l2', 'tol': 0.1}\n",
      "RMSE: 554,003,102,888.5635 - {'eta0': 0.1, 'max_iter': 10000, 'penalty': 'None', 'tol': 0.001}\n",
      "RMSE: 531,001,627,874.0417 - {'eta0': 0.1, 'max_iter': 10000, 'penalty': 'None', 'tol': 0.01}\n",
      "RMSE: 573,254,399,237.0173 - {'eta0': 0.1, 'max_iter': 10000, 'penalty': 'None', 'tol': 0.1}\n",
      "RMSE: 785,505,772,057.2283 - {'eta0': 0.1, 'max_iter': 10000, 'penalty': 'l2', 'tol': 0.001}\n",
      "RMSE: 916,690,750,705.6252 - {'eta0': 0.1, 'max_iter': 10000, 'penalty': 'l2', 'tol': 0.01}\n",
      "RMSE: 727,298,085,663.7534 - {'eta0': 0.1, 'max_iter': 10000, 'penalty': 'l2', 'tol': 0.1}\n"
     ]
    }
   ],
   "source": [
    "cvres = grid_search.cv_results_\n",
    "for mean_score, params in zip(cvres[\"mean_test_score\"], cvres[\"params\"]):\n",
    "    print(\"RMSE: {:,.4f} - {}\".format( -mean_score, params) )"
   ]
  },
  {
   "cell_type": "code",
   "execution_count": 88,
   "id": "6d673c28",
   "metadata": {},
   "outputs": [
    {
     "data": {
      "text/plain": [
       "{'eta0': 0.001, 'max_iter': 10000, 'penalty': 'None', 'tol': 0.1}"
      ]
     },
     "execution_count": 88,
     "metadata": {},
     "output_type": "execute_result"
    }
   ],
   "source": [
    "grid_search.best_params_"
   ]
  },
  {
   "cell_type": "code",
   "execution_count": 89,
   "id": "64aa1915",
   "metadata": {},
   "outputs": [
    {
     "name": "stdout",
     "output_type": "stream",
     "text": [
      "Prediction Error (RMSE): 5.0767\n"
     ]
    }
   ],
   "source": [
    "sgd_model = SGDRegressor(**grid_search.best_params_)\n",
    "sgd_model.fit(X_train, y_train)\n",
    "\n",
    "#calcualte the predicted values\n",
    "predictions = sgd_model.predict(X_test)\n",
    "\n",
    "#compare the predicted (housing_predictions) to the actuals(housing_labels)\n",
    "rmse = mean_squared_error( y_test, predictions,squared=False)\n",
    "print(\"Prediction Error (RMSE): {:,.4f}\".format(rmse))"
   ]
  },
  {
   "cell_type": "code",
   "execution_count": 90,
   "id": "019cc004-91ad-4ea8-af78-5563fdc7f377",
   "metadata": {},
   "outputs": [
    {
     "data": {
      "image/png": "[encoded data removed]",
      "text/plain": [
       "<Figure size 720x360 with 1 Axes>"
      ]
     },
     "metadata": {
      "needs_background": "light"
     },
     "output_type": "display_data"
    }
   ],
   "source": [
    "plot_learning_curve(sgd_model, X_train, y_train)"
   ]
  },
  {
   "cell_type": "code",
   "execution_count": 91,
   "id": "565dd1a8-7a71-4206-aa85-a343d37da7ac",
   "metadata": {},
   "outputs": [
    {
     "name": "stdout",
     "output_type": "stream",
     "text": [
      "Prediction       8.82  ---  Actual       4.95\n",
      "Prediction       6.31  ---  Actual       2.97\n",
      "Prediction      15.39  ---  Actual       4.45\n"
     ]
    }
   ],
   "source": [
    "#print using format\n",
    "for x in range(0,3):\n",
    "    print( \"Prediction {:10,.2f}  ---  Actual {:10,.2f}\".format( float(predictions[x:x+1]), float(y_test[x:x+1]) ) )"
   ]
  },
  {
   "cell_type": "markdown",
   "id": "94cc3552-33c9-4864-9667-2b7cb56c6c4b",
   "metadata": {},
   "source": [
    "### Lasso Regression"
   ]
  },
  {
   "cell_type": "code",
   "execution_count": 92,
   "id": "b467f82a-1d8a-46c4-af4e-d6e7668215a0",
   "metadata": {},
   "outputs": [
    {
     "name": "stdout",
     "output_type": "stream",
     "text": [
      "Prediction Error (RMSE): 6.8401\n"
     ]
    }
   ],
   "source": [
    "#create a Lasso Regression model\n",
    "lasso_reg=Lasso(alpha=1)\n",
    "\n",
    "#fit the model to the training data set\n",
    "lasso_reg.fit(X_train, y_train)\n",
    "\n",
    "#calculated the predicted values for the training data set\n",
    "predictions = lasso_reg.predict(X_train)\n",
    "\n",
    "#compare the predicted to the actuals\n",
    "rmse = mean_squared_error(y_train,predictions, squared=False)\n",
    "print(\"Prediction Error (RMSE): {:,.4f}\".format(rmse))"
   ]
  },
  {
   "cell_type": "code",
   "execution_count": 93,
   "id": "90f475a2-23e9-4788-a7bd-f885b224f5b7",
   "metadata": {},
   "outputs": [
    {
     "name": "stdout",
     "output_type": "stream",
     "text": [
      "RMSE: 7.2908\n"
     ]
    }
   ],
   "source": [
    "#run cross validation\n",
    "scores = cross_val_score(lasso_reg, X_train, y_train, scoring=\"neg_root_mean_squared_error\", cv=10)\n",
    "\n",
    "#report the results\n",
    "print(\"RMSE: {:,.4f}\".format( -scores.mean() ) )"
   ]
  },
  {
   "cell_type": "code",
   "execution_count": 94,
   "id": "c73c9ce0-f838-4cc2-91c1-7d4568e71600",
   "metadata": {},
   "outputs": [
    {
     "name": "stdout",
     "output_type": "stream",
     "text": [
      "Prediction Error (RMSE): 5.4994\n"
     ]
    }
   ],
   "source": [
    "#use the best Lasso Regression model and evaluate the test data set\n",
    "predictions = lasso_reg.predict(X_test)\n",
    "\n",
    "#compare the predicted to the actuals\n",
    "rmse = mean_squared_error(y_test,predictions, squared=False)\n",
    "print(\"Prediction Error (RMSE): {:,.4f}\".format(rmse))"
   ]
  },
  {
   "cell_type": "code",
   "execution_count": 95,
   "id": "326d4de3-a934-4777-914b-27a5912d7947",
   "metadata": {},
   "outputs": [
    {
     "data": {
      "image/png": "[encoded data removed]",
      "text/plain": [
       "<Figure size 720x360 with 1 Axes>"
      ]
     },
     "metadata": {
      "needs_background": "light"
     },
     "output_type": "display_data"
    }
   ],
   "source": [
    "plot_learning_curve(lasso_reg, X_train, y_train)"
   ]
  },
  {
   "cell_type": "code",
   "execution_count": 96,
   "id": "693d03d6-1efa-493a-8415-5a396d1461b2",
   "metadata": {},
   "outputs": [
    {
     "name": "stdout",
     "output_type": "stream",
     "text": [
      "Prediction       7.83  ---  Actual       4.95\n",
      "Prediction       7.33  ---  Actual       2.97\n",
      "Prediction      15.06  ---  Actual       4.45\n"
     ]
    }
   ],
   "source": [
    "#print using format\n",
    "for x in range(0,3):\n",
    "    print( \"Prediction {:10,.2f}  ---  Actual {:10,.2f}\".format( float(predictions[x:x+1]), float(y_test[x:x+1]) ) )"
   ]
  },
  {
   "cell_type": "markdown",
   "id": "decbcdd8",
   "metadata": {},
   "source": [
    "### Adding Polynomial Features - Ridge"
   ]
  },
  {
   "cell_type": "code",
   "execution_count": 97,
   "id": "960053ed",
   "metadata": {},
   "outputs": [
    {
     "data": {
      "text/plain": [
       "(3773, 72)"
      ]
     },
     "execution_count": 97,
     "metadata": {},
     "output_type": "execute_result"
    }
   ],
   "source": [
    "#review the current shape of our training set\n",
    "X_train.shape"
   ]
  },
  {
   "cell_type": "code",
   "execution_count": 98,
   "id": "7501aec4",
   "metadata": {},
   "outputs": [
    {
     "data": {
      "text/plain": [
       "((3773, 2701), (944, 2701))"
      ]
     },
     "execution_count": 98,
     "metadata": {},
     "output_type": "execute_result"
    }
   ],
   "source": [
    "#try making a linear model fit data that is more likely non-linear\n",
    "DEGREE = 2\n",
    "\n",
    "#create a polynomial feature with degree based on variable DEGREE\n",
    "poly_features=PolynomialFeatures(degree=DEGREE)\n",
    "\n",
    "#transform our X by adding the square of each feature to the training set\n",
    "X_train_poly = poly_features.fit_transform(X_train)\n",
    "X_test_poly = poly_features.transform(X_test)\n",
    "\n",
    "X_train_poly.shape, X_test_poly.shape"
   ]
  },
  {
   "cell_type": "code",
   "execution_count": 99,
   "id": "a773075c",
   "metadata": {},
   "outputs": [
    {
     "data": {
      "text/html": [
       "<style>div.sk-top-container {color: black;background-color: white;}div.sk-toggleable {background-color: white;}label.sk-toggleable__label {cursor: pointer;display: block;width: 100%;margin-bottom: 0;padding: 0.2em 0.3em;box-sizing: border-box;text-align: center;}div.sk-toggleable__content {max-height: 0;max-width: 0;overflow: hidden;text-align: left;background-color: #f0f8ff;}div.sk-toggleable__content pre {margin: 0.2em;color: black;border-radius: 0.25em;background-color: #f0f8ff;}input.sk-toggleable__control:checked~div.sk-toggleable__content {max-height: 200px;max-width: 100%;overflow: auto;}div.sk-estimator input.sk-toggleable__control:checked~label.sk-toggleable__label {background-color: #d4ebff;}div.sk-label input.sk-toggleable__control:checked~label.sk-toggleable__label {background-color: #d4ebff;}input.sk-hidden--visually {border: 0;clip: rect(1px 1px 1px 1px);clip: rect(1px, 1px, 1px, 1px);height: 1px;margin: -1px;overflow: hidden;padding: 0;position: absolute;width: 1px;}div.sk-estimator {font-family: monospace;background-color: #f0f8ff;margin: 0.25em 0.25em;border: 1px dotted black;border-radius: 0.25em;box-sizing: border-box;}div.sk-estimator:hover {background-color: #d4ebff;}div.sk-parallel-item::after {content: \"\";width: 100%;border-bottom: 1px solid gray;flex-grow: 1;}div.sk-label:hover label.sk-toggleable__label {background-color: #d4ebff;}div.sk-serial::before {content: \"\";position: absolute;border-left: 1px solid gray;box-sizing: border-box;top: 2em;bottom: 0;left: 50%;}div.sk-serial {display: flex;flex-direction: column;align-items: center;background-color: white;}div.sk-item {z-index: 1;}div.sk-parallel {display: flex;align-items: stretch;justify-content: center;background-color: white;}div.sk-parallel-item {display: flex;flex-direction: column;position: relative;background-color: white;}div.sk-parallel-item:first-child::after {align-self: flex-end;width: 50%;}div.sk-parallel-item:last-child::after {align-self: flex-start;width: 50%;}div.sk-parallel-item:only-child::after {width: 0;}div.sk-dashed-wrapped {border: 1px dashed gray;margin: 0.2em;box-sizing: border-box;padding-bottom: 0.1em;background-color: white;position: relative;}div.sk-label label {font-family: monospace;font-weight: bold;background-color: white;display: inline-block;line-height: 1.2em;}div.sk-label-container {position: relative;z-index: 2;text-align: center;}div.sk-container {display: inline-block;position: relative;}</style><div class=\"sk-top-container\"><div class=\"sk-container\"><div class=\"sk-item\"><div class=\"sk-estimator sk-toggleable\"><input class=\"sk-toggleable__control sk-hidden--visually\" id=\"a66e3a16-a7ba-425b-84ee-79b659487ab4\" type=\"checkbox\" checked><label class=\"sk-toggleable__label\" for=\"a66e3a16-a7ba-425b-84ee-79b659487ab4\">Ridge</label><div class=\"sk-toggleable__content\"><pre>Ridge()</pre></div></div></div></div></div>"
      ],
      "text/plain": [
       "Ridge()"
      ]
     },
     "execution_count": 99,
     "metadata": {},
     "output_type": "execute_result"
    }
   ],
   "source": [
    "# use the new, complex data set to train a new model\n",
    "model_poly = Ridge()\n",
    "\n",
    "model_poly.fit(X_train_poly, y_train)"
   ]
  },
  {
   "cell_type": "code",
   "execution_count": 100,
   "id": "6180b536",
   "metadata": {},
   "outputs": [
    {
     "name": "stdout",
     "output_type": "stream",
     "text": [
      "Prediction Error (RMSE): 3.3250\n"
     ]
    }
   ],
   "source": [
    "#calculate the predicted values\n",
    "predictions = model_poly.predict(X_train_poly)\n",
    "\n",
    "#compare the predicted (housing_predictions) to the actuals(housing_labels)\n",
    "rmse = mean_squared_error( y_train, predictions, squared=False)\n",
    "print(\"Prediction Error (RMSE): {:,.4f}\".format(rmse))"
   ]
  },
  {
   "cell_type": "code",
   "execution_count": 101,
   "id": "bd1be2d7",
   "metadata": {},
   "outputs": [
    {
     "name": "stdout",
     "output_type": "stream",
     "text": [
      "Prediction Error (RMSE): 6.1668\n"
     ]
    }
   ],
   "source": [
    "#calcualte the predicted values\n",
    "predictions = model_poly.predict(X_test_poly)\n",
    "\n",
    "#compare the predicted to the actuals\n",
    "rmse = mean_squared_error( y_test, predictions, squared=False)\n",
    "print(\"Prediction Error (RMSE): {:,.4f}\".format(rmse))"
   ]
  },
  {
   "cell_type": "code",
   "execution_count": 102,
   "id": "6f132588-58d8-407b-bbe6-84ec525e129b",
   "metadata": {},
   "outputs": [
    {
     "name": "stdout",
     "output_type": "stream",
     "text": [
      "RMSE: 6.1989\n"
     ]
    }
   ],
   "source": [
    "#run cross validation\n",
    "scores = cross_val_score(model_poly, X_train_poly, y_train, scoring=\"neg_root_mean_squared_error\", cv=10)\n",
    "\n",
    "#report the results\n",
    "print(\"RMSE: {:,.4f}\".format( -scores.mean() ) )"
   ]
  },
  {
   "cell_type": "code",
   "execution_count": 103,
   "id": "f9cd3b47-f23f-468d-9ddf-000ce62df517",
   "metadata": {},
   "outputs": [
    {
     "name": "stdout",
     "output_type": "stream",
     "text": [
      "Prediction Error (RMSE): 6.1668\n"
     ]
    }
   ],
   "source": [
    "#use the best poly ridge Regression model and evaluate the test data set\n",
    "predictions = model_poly.predict(X_test_poly)\n",
    "\n",
    "#compare the predicted to the actuals\n",
    "rmse = mean_squared_error(y_test,predictions, squared=False)\n",
    "print(\"Prediction Error (RMSE): {:,.4f}\".format(rmse))"
   ]
  },
  {
   "cell_type": "code",
   "execution_count": 104,
   "id": "007891e4",
   "metadata": {},
   "outputs": [
    {
     "data": {
      "image/png": "[encoded data removed]",
      "text/plain": [
       "<Figure size 720x360 with 1 Axes>"
      ]
     },
     "metadata": {
      "needs_background": "light"
     },
     "output_type": "display_data"
    }
   ],
   "source": [
    "plot_learning_curve(model_poly,X_train_poly,y_train)"
   ]
  },
  {
   "cell_type": "code",
   "execution_count": 105,
   "id": "9ba6bca6-864f-4888-8813-5ed576a2f5f6",
   "metadata": {},
   "outputs": [
    {
     "name": "stdout",
     "output_type": "stream",
     "text": [
      "Prediction       6.66  ---  Actual       4.95\n",
      "Prediction       6.66  ---  Actual       2.97\n",
      "Prediction      28.27  ---  Actual       4.45\n"
     ]
    }
   ],
   "source": [
    "#print using format\n",
    "for x in range(0,3):\n",
    "    print( \"Prediction {:10,.2f}  ---  Actual {:10,.2f}\".format( float(predictions[x:x+1]), float(y_test[x:x+1]) ) )"
   ]
  },
  {
   "cell_type": "markdown",
   "id": "796b47c2-231a-4513-9827-ede0d9ea6e3d",
   "metadata": {},
   "source": [
    "### Polynomial Features - Lasso"
   ]
  },
  {
   "cell_type": "code",
   "execution_count": 106,
   "id": "98eadb66-e849-44b9-9ebb-bb0043e287e5",
   "metadata": {},
   "outputs": [
    {
     "data": {
      "text/html": [
       "<style>div.sk-top-container {color: black;background-color: white;}div.sk-toggleable {background-color: white;}label.sk-toggleable__label {cursor: pointer;display: block;width: 100%;margin-bottom: 0;padding: 0.2em 0.3em;box-sizing: border-box;text-align: center;}div.sk-toggleable__content {max-height: 0;max-width: 0;overflow: hidden;text-align: left;background-color: #f0f8ff;}div.sk-toggleable__content pre {margin: 0.2em;color: black;border-radius: 0.25em;background-color: #f0f8ff;}input.sk-toggleable__control:checked~div.sk-toggleable__content {max-height: 200px;max-width: 100%;overflow: auto;}div.sk-estimator input.sk-toggleable__control:checked~label.sk-toggleable__label {background-color: #d4ebff;}div.sk-label input.sk-toggleable__control:checked~label.sk-toggleable__label {background-color: #d4ebff;}input.sk-hidden--visually {border: 0;clip: rect(1px 1px 1px 1px);clip: rect(1px, 1px, 1px, 1px);height: 1px;margin: -1px;overflow: hidden;padding: 0;position: absolute;width: 1px;}div.sk-estimator {font-family: monospace;background-color: #f0f8ff;margin: 0.25em 0.25em;border: 1px dotted black;border-radius: 0.25em;box-sizing: border-box;}div.sk-estimator:hover {background-color: #d4ebff;}div.sk-parallel-item::after {content: \"\";width: 100%;border-bottom: 1px solid gray;flex-grow: 1;}div.sk-label:hover label.sk-toggleable__label {background-color: #d4ebff;}div.sk-serial::before {content: \"\";position: absolute;border-left: 1px solid gray;box-sizing: border-box;top: 2em;bottom: 0;left: 50%;}div.sk-serial {display: flex;flex-direction: column;align-items: center;background-color: white;}div.sk-item {z-index: 1;}div.sk-parallel {display: flex;align-items: stretch;justify-content: center;background-color: white;}div.sk-parallel-item {display: flex;flex-direction: column;position: relative;background-color: white;}div.sk-parallel-item:first-child::after {align-self: flex-end;width: 50%;}div.sk-parallel-item:last-child::after {align-self: flex-start;width: 50%;}div.sk-parallel-item:only-child::after {width: 0;}div.sk-dashed-wrapped {border: 1px dashed gray;margin: 0.2em;box-sizing: border-box;padding-bottom: 0.1em;background-color: white;position: relative;}div.sk-label label {font-family: monospace;font-weight: bold;background-color: white;display: inline-block;line-height: 1.2em;}div.sk-label-container {position: relative;z-index: 2;text-align: center;}div.sk-container {display: inline-block;position: relative;}</style><div class=\"sk-top-container\"><div class=\"sk-container\"><div class=\"sk-item\"><div class=\"sk-estimator sk-toggleable\"><input class=\"sk-toggleable__control sk-hidden--visually\" id=\"d39aa68c-7f8a-456f-af0d-753e32b7d6ed\" type=\"checkbox\" checked><label class=\"sk-toggleable__label\" for=\"d39aa68c-7f8a-456f-af0d-753e32b7d6ed\">Lasso</label><div class=\"sk-toggleable__content\"><pre>Lasso()</pre></div></div></div></div></div>"
      ],
      "text/plain": [
       "Lasso()"
      ]
     },
     "execution_count": 106,
     "metadata": {},
     "output_type": "execute_result"
    }
   ],
   "source": [
    "# use the new, complex data set to train a new model\n",
    "lasso_poly = Lasso()\n",
    "\n",
    "lasso_poly.fit(X_train_poly, y_train)"
   ]
  },
  {
   "cell_type": "code",
   "execution_count": 107,
   "id": "be6dd4eb-e97f-4b3d-ae6e-206e6051c7df",
   "metadata": {},
   "outputs": [
    {
     "name": "stdout",
     "output_type": "stream",
     "text": [
      "Prediction Error (RMSE): 5.7910\n"
     ]
    }
   ],
   "source": [
    "#calculate the predicted values\n",
    "predictions = lasso_poly.predict(X_train_poly)\n",
    "\n",
    "#compare the predicted (housing_predictions) to the actuals(housing_labels)\n",
    "rmse = mean_squared_error( y_train, predictions, squared=False)\n",
    "print(\"Prediction Error (RMSE): {:,.4f}\".format(rmse))"
   ]
  },
  {
   "cell_type": "code",
   "execution_count": 108,
   "id": "da3766a2-db55-4b0e-84d8-86cb3875ba7a",
   "metadata": {},
   "outputs": [
    {
     "name": "stdout",
     "output_type": "stream",
     "text": [
      "Prediction Error (RMSE): 4.2558\n"
     ]
    }
   ],
   "source": [
    "#calcualte the predicted values\n",
    "predictions = lasso_poly.predict(X_test_poly)\n",
    "\n",
    "#compare the predicted to the actuals\n",
    "rmse = mean_squared_error( y_test, predictions, squared=False)\n",
    "print(\"Prediction Error (RMSE): {:,.4f}\".format(rmse))"
   ]
  },
  {
   "cell_type": "code",
   "execution_count": 109,
   "id": "93777205-fba6-452b-8cfd-264945b84ba2",
   "metadata": {},
   "outputs": [
    {
     "name": "stdout",
     "output_type": "stream",
     "text": [
      "RMSE: 6.6753\n"
     ]
    }
   ],
   "source": [
    "#run cross validation\n",
    "scores = cross_val_score(lasso_poly, X_train_poly, y_train, scoring=\"neg_root_mean_squared_error\", cv=10)\n",
    "\n",
    "#report the results\n",
    "print(\"RMSE: {:,.4f}\".format( -scores.mean() ) )"
   ]
  },
  {
   "cell_type": "code",
   "execution_count": 110,
   "id": "16649e10-a814-4faa-9731-192a1b13fdce",
   "metadata": {},
   "outputs": [
    {
     "name": "stdout",
     "output_type": "stream",
     "text": [
      "Prediction Error (RMSE): 4.2558\n"
     ]
    }
   ],
   "source": [
    "#use the best poly lasso Regression model and evaluate the test data set\n",
    "predictions = lasso_poly.predict(X_test_poly)\n",
    "\n",
    "#compare the predicted to the actuals\n",
    "rmse = mean_squared_error(y_test,predictions, squared=False)\n",
    "print(\"Prediction Error (RMSE): {:,.4f}\".format(rmse))"
   ]
  },
  {
   "cell_type": "code",
   "execution_count": 111,
   "id": "c4aa986e-cdfb-4909-94ec-c70b0b9b05eb",
   "metadata": {},
   "outputs": [
    {
     "data": {
      "image/png": "[encoded data removed]",
      "text/plain": [
       "<Figure size 720x360 with 1 Axes>"
      ]
     },
     "metadata": {
      "needs_background": "light"
     },
     "output_type": "display_data"
    }
   ],
   "source": [
    "plot_learning_curve(lasso_poly,X_train_poly,y_train)"
   ]
  },
  {
   "cell_type": "code",
   "execution_count": 112,
   "id": "0ad518f8-0d4a-43da-9c49-7678a75041cf",
   "metadata": {},
   "outputs": [
    {
     "name": "stdout",
     "output_type": "stream",
     "text": [
      "Prediction       6.88  ---  Actual       4.95\n",
      "Prediction       4.96  ---  Actual       2.97\n",
      "Prediction      14.07  ---  Actual       4.45\n"
     ]
    }
   ],
   "source": [
    "#print using format\n",
    "for x in range(0,3):\n",
    "    print( \"Prediction {:10,.2f}  ---  Actual {:10,.2f}\".format( float(predictions[x:x+1]), float(y_test[x:x+1]) ) )"
   ]
  },
  {
   "cell_type": "code",
   "execution_count": 113,
   "id": "e89de8ee",
   "metadata": {},
   "outputs": [
    {
     "data": {
      "text/html": [
       "<style>div.sk-top-container {color: black;background-color: white;}div.sk-toggleable {background-color: white;}label.sk-toggleable__label {cursor: pointer;display: block;width: 100%;margin-bottom: 0;padding: 0.2em 0.3em;box-sizing: border-box;text-align: center;}div.sk-toggleable__content {max-height: 0;max-width: 0;overflow: hidden;text-align: left;background-color: #f0f8ff;}div.sk-toggleable__content pre {margin: 0.2em;color: black;border-radius: 0.25em;background-color: #f0f8ff;}input.sk-toggleable__control:checked~div.sk-toggleable__content {max-height: 200px;max-width: 100%;overflow: auto;}div.sk-estimator input.sk-toggleable__control:checked~label.sk-toggleable__label {background-color: #d4ebff;}div.sk-label input.sk-toggleable__control:checked~label.sk-toggleable__label {background-color: #d4ebff;}input.sk-hidden--visually {border: 0;clip: rect(1px 1px 1px 1px);clip: rect(1px, 1px, 1px, 1px);height: 1px;margin: -1px;overflow: hidden;padding: 0;position: absolute;width: 1px;}div.sk-estimator {font-family: monospace;background-color: #f0f8ff;margin: 0.25em 0.25em;border: 1px dotted black;border-radius: 0.25em;box-sizing: border-box;}div.sk-estimator:hover {background-color: #d4ebff;}div.sk-parallel-item::after {content: \"\";width: 100%;border-bottom: 1px solid gray;flex-grow: 1;}div.sk-label:hover label.sk-toggleable__label {background-color: #d4ebff;}div.sk-serial::before {content: \"\";position: absolute;border-left: 1px solid gray;box-sizing: border-box;top: 2em;bottom: 0;left: 50%;}div.sk-serial {display: flex;flex-direction: column;align-items: center;background-color: white;}div.sk-item {z-index: 1;}div.sk-parallel {display: flex;align-items: stretch;justify-content: center;background-color: white;}div.sk-parallel-item {display: flex;flex-direction: column;position: relative;background-color: white;}div.sk-parallel-item:first-child::after {align-self: flex-end;width: 50%;}div.sk-parallel-item:last-child::after {align-self: flex-start;width: 50%;}div.sk-parallel-item:only-child::after {width: 0;}div.sk-dashed-wrapped {border: 1px dashed gray;margin: 0.2em;box-sizing: border-box;padding-bottom: 0.1em;background-color: white;position: relative;}div.sk-label label {font-family: monospace;font-weight: bold;background-color: white;display: inline-block;line-height: 1.2em;}div.sk-label-container {position: relative;z-index: 2;text-align: center;}div.sk-container {display: inline-block;position: relative;}</style><div class=\"sk-top-container\"><div class=\"sk-container\"><div class=\"sk-item sk-dashed-wrapped\"><div class=\"sk-label-container\"><div class=\"sk-label sk-toggleable\"><input class=\"sk-toggleable__control sk-hidden--visually\" id=\"448c9692-2ee7-40f1-83c1-bd476ac053d7\" type=\"checkbox\" ><label class=\"sk-toggleable__label\" for=\"448c9692-2ee7-40f1-83c1-bd476ac053d7\">ColumnTransformer</label><div class=\"sk-toggleable__content\"><pre>ColumnTransformer(transformers=[('num',\n",
       "                                 Pipeline(steps=[('imputer',\n",
       "                                                  SimpleImputer(strategy='median')),\n",
       "                                                 ('std_scaler',\n",
       "                                                  StandardScaler())]),\n",
       "                                 ['BBPwr', 'EnergyIntensity_Sales',\n",
       "                                  'WasteGenerated_Sales',\n",
       "                                  'CO2EmissionsPerSales', 'PercentWmnBoard',\n",
       "                                  'Cpn', '260D_Volatility', 'Debt_EBITDA',\n",
       "                                  'FCF_TotDbt', 'Days2Maturity']),\n",
       "                                ('ord',\n",
       "                                 Pipeline(steps=[('imputer',\n",
       "                                                  SimpleImputer(st...\n",
       "                                                                              'B3',\n",
       "                                                                              'B2',\n",
       "                                                                              'B1',\n",
       "                                                                              'Ba3',\n",
       "                                                                              'Ba2',\n",
       "                                                                              'Ba1',\n",
       "                                                                              'Baa3',\n",
       "                                                                              'Baa2',\n",
       "                                                                              'Baa1',\n",
       "                                                                              'A3',\n",
       "                                                                              'A2',\n",
       "                                                                              'A1',\n",
       "                                                                              'Aa3',\n",
       "                                                                              'Aa2',\n",
       "                                                                              'Aa1',\n",
       "                                                                              'Aaa'],\n",
       "                                                                             ['Missing',\n",
       "                                                                              'NR',\n",
       "                                                                              'D',\n",
       "                                                                              'CCC-',\n",
       "                                                                              'CCC',\n",
       "                                                                              'CCC+',\n",
       "                                                                              'B-',\n",
       "                                                                              'B',\n",
       "                                                                              'B+',\n",
       "                                                                              'BB-',\n",
       "                                                                              'BB',\n",
       "                                                                              'BB+',\n",
       "                                                                              'BBB-',\n",
       "                                                                              'BBB',\n",
       "                                                                              'BBB+',\n",
       "                                                                              'A-',\n",
       "                                                                              'A',\n",
       "                                                                              'A+',\n",
       "                                                                              'AA-',\n",
       "                                                                              'AA',\n",
       "                                                                              'AAA']]))]),\n",
       "                                 ['ESGrating', 'FitchRating', 'MoodyRtg',\n",
       "                                  'SP_Rating']),\n",
       "                                ('cat', OneHotEncoder(sparse=False),\n",
       "                                 ['BBG_Composite', 'MtyType', 'Currency'])])</pre></div></div></div><div class=\"sk-parallel\"><div class=\"sk-parallel-item\"><div class=\"sk-item\"><div class=\"sk-label-container\"><div class=\"sk-label sk-toggleable\"><input class=\"sk-toggleable__control sk-hidden--visually\" id=\"3b0d4ac9-2255-4a66-8f30-91cc5b3ca652\" type=\"checkbox\" ><label class=\"sk-toggleable__label\" for=\"3b0d4ac9-2255-4a66-8f30-91cc5b3ca652\">num</label><div class=\"sk-toggleable__content\"><pre>['BBPwr', 'EnergyIntensity_Sales', 'WasteGenerated_Sales', 'CO2EmissionsPerSales', 'PercentWmnBoard', 'Cpn', '260D_Volatility', 'Debt_EBITDA', 'FCF_TotDbt', 'Days2Maturity']</pre></div></div></div><div class=\"sk-serial\"><div class=\"sk-item\"><div class=\"sk-serial\"><div class=\"sk-item\"><div class=\"sk-estimator sk-toggleable\"><input class=\"sk-toggleable__control sk-hidden--visually\" id=\"b50aca92-3e9a-4bcf-9eed-ba04cf07cc2c\" type=\"checkbox\" ><label class=\"sk-toggleable__label\" for=\"b50aca92-3e9a-4bcf-9eed-ba04cf07cc2c\">SimpleImputer</label><div class=\"sk-toggleable__content\"><pre>SimpleImputer(strategy='median')</pre></div></div></div><div class=\"sk-item\"><div class=\"sk-estimator sk-toggleable\"><input class=\"sk-toggleable__control sk-hidden--visually\" id=\"2df070e3-fb10-4334-af79-82e9928edd2c\" type=\"checkbox\" ><label class=\"sk-toggleable__label\" for=\"2df070e3-fb10-4334-af79-82e9928edd2c\">StandardScaler</label><div class=\"sk-toggleable__content\"><pre>StandardScaler()</pre></div></div></div></div></div></div></div></div><div class=\"sk-parallel-item\"><div class=\"sk-item\"><div class=\"sk-label-container\"><div class=\"sk-label sk-toggleable\"><input class=\"sk-toggleable__control sk-hidden--visually\" id=\"3236e850-ad26-49c5-a96c-52d2e0760fe9\" type=\"checkbox\" ><label class=\"sk-toggleable__label\" for=\"3236e850-ad26-49c5-a96c-52d2e0760fe9\">ord</label><div class=\"sk-toggleable__content\"><pre>['ESGrating', 'FitchRating', 'MoodyRtg', 'SP_Rating']</pre></div></div></div><div class=\"sk-serial\"><div class=\"sk-item\"><div class=\"sk-serial\"><div class=\"sk-item\"><div class=\"sk-estimator sk-toggleable\"><input class=\"sk-toggleable__control sk-hidden--visually\" id=\"a635c275-4b56-4c2a-82d0-b8540ecacb28\" type=\"checkbox\" ><label class=\"sk-toggleable__label\" for=\"a635c275-4b56-4c2a-82d0-b8540ecacb28\">SimpleImputer</label><div class=\"sk-toggleable__content\"><pre>SimpleImputer(strategy='most_frequent')</pre></div></div></div><div class=\"sk-item\"><div class=\"sk-estimator sk-toggleable\"><input class=\"sk-toggleable__control sk-hidden--visually\" id=\"fd7a32f2-f611-4364-9be5-d7cf8d4065fe\" type=\"checkbox\" ><label class=\"sk-toggleable__label\" for=\"fd7a32f2-f611-4364-9be5-d7cf8d4065fe\">OrdinalEncoder</label><div class=\"sk-toggleable__content\"><pre>OrdinalEncoder(categories=[['N.S.', 'CCC', 'B', 'BB', 'BBB', 'A', 'AA', 'AAA'],\n",
       "                           ['Missing', 'WD', 'NR', 'C', 'CC', 'CCC', 'B-', 'B',\n",
       "                            'B+', 'BB-', 'BB', 'BB+', 'BBB-', 'BBB', 'BBB+',\n",
       "                            'A-', 'A', 'A+', 'AA-', 'AA', 'AA+', 'AAA-', 'AAA',\n",
       "                            'AAA+'],\n",
       "                           ['Missing', 'WR', 'NR', 'C', 'Ca', 'Caa3', 'Caa2',\n",
       "                            'Caa1', 'B3', 'B2', 'B1', 'Ba3', 'Ba2', 'Ba1',\n",
       "                            'Baa3', 'Baa2', 'Baa1', 'A3', 'A2', 'A1', 'Aa3',\n",
       "                            'Aa2', 'Aa1', 'Aaa'],\n",
       "                           ['Missing', 'NR', 'D', 'CCC-', 'CCC', 'CCC+', 'B-',\n",
       "                            'B', 'B+', 'BB-', 'BB', 'BB+', 'BBB-', 'BBB',\n",
       "                            'BBB+', 'A-', 'A', 'A+', 'AA-', 'AA', 'AAA']])</pre></div></div></div></div></div></div></div></div><div class=\"sk-parallel-item\"><div class=\"sk-item\"><div class=\"sk-label-container\"><div class=\"sk-label sk-toggleable\"><input class=\"sk-toggleable__control sk-hidden--visually\" id=\"9d137919-226a-4ca7-804c-0dcaf288a626\" type=\"checkbox\" ><label class=\"sk-toggleable__label\" for=\"9d137919-226a-4ca7-804c-0dcaf288a626\">cat</label><div class=\"sk-toggleable__content\"><pre>['BBG_Composite', 'MtyType', 'Currency']</pre></div></div></div><div class=\"sk-serial\"><div class=\"sk-item\"><div class=\"sk-estimator sk-toggleable\"><input class=\"sk-toggleable__control sk-hidden--visually\" id=\"5f0222d3-184a-40f5-a928-6cd71bf29712\" type=\"checkbox\" ><label class=\"sk-toggleable__label\" for=\"5f0222d3-184a-40f5-a928-6cd71bf29712\">OneHotEncoder</label><div class=\"sk-toggleable__content\"><pre>OneHotEncoder(sparse=False)</pre></div></div></div></div></div></div></div></div></div></div>"
      ],
      "text/plain": [
       "ColumnTransformer(transformers=[('num',\n",
       "                                 Pipeline(steps=[('imputer',\n",
       "                                                  SimpleImputer(strategy='median')),\n",
       "                                                 ('std_scaler',\n",
       "                                                  StandardScaler())]),\n",
       "                                 ['BBPwr', 'EnergyIntensity_Sales',\n",
       "                                  'WasteGenerated_Sales',\n",
       "                                  'CO2EmissionsPerSales', 'PercentWmnBoard',\n",
       "                                  'Cpn', '260D_Volatility', 'Debt_EBITDA',\n",
       "                                  'FCF_TotDbt', 'Days2Maturity']),\n",
       "                                ('ord',\n",
       "                                 Pipeline(steps=[('imputer',\n",
       "                                                  SimpleImputer(st...\n",
       "                                                                              'B3',\n",
       "                                                                              'B2',\n",
       "                                                                              'B1',\n",
       "                                                                              'Ba3',\n",
       "                                                                              'Ba2',\n",
       "                                                                              'Ba1',\n",
       "                                                                              'Baa3',\n",
       "                                                                              'Baa2',\n",
       "                                                                              'Baa1',\n",
       "                                                                              'A3',\n",
       "                                                                              'A2',\n",
       "                                                                              'A1',\n",
       "                                                                              'Aa3',\n",
       "                                                                              'Aa2',\n",
       "                                                                              'Aa1',\n",
       "                                                                              'Aaa'],\n",
       "                                                                             ['Missing',\n",
       "                                                                              'NR',\n",
       "                                                                              'D',\n",
       "                                                                              'CCC-',\n",
       "                                                                              'CCC',\n",
       "                                                                              'CCC+',\n",
       "                                                                              'B-',\n",
       "                                                                              'B',\n",
       "                                                                              'B+',\n",
       "                                                                              'BB-',\n",
       "                                                                              'BB',\n",
       "                                                                              'BB+',\n",
       "                                                                              'BBB-',\n",
       "                                                                              'BBB',\n",
       "                                                                              'BBB+',\n",
       "                                                                              'A-',\n",
       "                                                                              'A',\n",
       "                                                                              'A+',\n",
       "                                                                              'AA-',\n",
       "                                                                              'AA',\n",
       "                                                                              'AAA']]))]),\n",
       "                                 ['ESGrating', 'FitchRating', 'MoodyRtg',\n",
       "                                  'SP_Rating']),\n",
       "                                ('cat', OneHotEncoder(sparse=False),\n",
       "                                 ['BBG_Composite', 'MtyType', 'Currency'])])"
      ]
     },
     "execution_count": 113,
     "metadata": {},
     "output_type": "execute_result"
    }
   ],
   "source": [
    "set_config(display='diagram')\n",
    "full_pipeline"
   ]
  },
  {
   "cell_type": "code",
   "execution_count": 114,
   "id": "86d25305-71c7-4239-98c3-9bc249496ae2",
   "metadata": {},
   "outputs": [
    {
     "data": {
      "text/html": [
       "<style>div.sk-top-container {color: black;background-color: white;}div.sk-toggleable {background-color: white;}label.sk-toggleable__label {cursor: pointer;display: block;width: 100%;margin-bottom: 0;padding: 0.2em 0.3em;box-sizing: border-box;text-align: center;}div.sk-toggleable__content {max-height: 0;max-width: 0;overflow: hidden;text-align: left;background-color: #f0f8ff;}div.sk-toggleable__content pre {margin: 0.2em;color: black;border-radius: 0.25em;background-color: #f0f8ff;}input.sk-toggleable__control:checked~div.sk-toggleable__content {max-height: 200px;max-width: 100%;overflow: auto;}div.sk-estimator input.sk-toggleable__control:checked~label.sk-toggleable__label {background-color: #d4ebff;}div.sk-label input.sk-toggleable__control:checked~label.sk-toggleable__label {background-color: #d4ebff;}input.sk-hidden--visually {border: 0;clip: rect(1px 1px 1px 1px);clip: rect(1px, 1px, 1px, 1px);height: 1px;margin: -1px;overflow: hidden;padding: 0;position: absolute;width: 1px;}div.sk-estimator {font-family: monospace;background-color: #f0f8ff;margin: 0.25em 0.25em;border: 1px dotted black;border-radius: 0.25em;box-sizing: border-box;}div.sk-estimator:hover {background-color: #d4ebff;}div.sk-parallel-item::after {content: \"\";width: 100%;border-bottom: 1px solid gray;flex-grow: 1;}div.sk-label:hover label.sk-toggleable__label {background-color: #d4ebff;}div.sk-serial::before {content: \"\";position: absolute;border-left: 1px solid gray;box-sizing: border-box;top: 2em;bottom: 0;left: 50%;}div.sk-serial {display: flex;flex-direction: column;align-items: center;background-color: white;}div.sk-item {z-index: 1;}div.sk-parallel {display: flex;align-items: stretch;justify-content: center;background-color: white;}div.sk-parallel-item {display: flex;flex-direction: column;position: relative;background-color: white;}div.sk-parallel-item:first-child::after {align-self: flex-end;width: 50%;}div.sk-parallel-item:last-child::after {align-self: flex-start;width: 50%;}div.sk-parallel-item:only-child::after {width: 0;}div.sk-dashed-wrapped {border: 1px dashed gray;margin: 0.2em;box-sizing: border-box;padding-bottom: 0.1em;background-color: white;position: relative;}div.sk-label label {font-family: monospace;font-weight: bold;background-color: white;display: inline-block;line-height: 1.2em;}div.sk-label-container {position: relative;z-index: 2;text-align: center;}div.sk-container {display: inline-block;position: relative;}</style><div class=\"sk-top-container\"><div class=\"sk-container\"><div class=\"sk-item\"><div class=\"sk-estimator sk-toggleable\"><input class=\"sk-toggleable__control sk-hidden--visually\" id=\"0b230999-8b50-445e-813a-4a6d2ce7ee7e\" type=\"checkbox\" checked><label class=\"sk-toggleable__label\" for=\"0b230999-8b50-445e-813a-4a6d2ce7ee7e\">SGDRegressor</label><div class=\"sk-toggleable__content\"><pre>SGDRegressor(eta0=0.001, max_iter=10000, penalty='None', tol=0.1)</pre></div></div></div></div></div>"
      ],
      "text/plain": [
       "SGDRegressor(eta0=0.001, max_iter=10000, penalty='None', tol=0.1)"
      ]
     },
     "execution_count": 114,
     "metadata": {},
     "output_type": "execute_result"
    }
   ],
   "source": [
    "sgd_model"
   ]
  }
 ],
 "metadata": {
  "kernelspec": {
   "display_name": "Python 3",
   "language": "python",
   "name": "python3"
  },
  "language_info": {
   "codemirror_mode": {
    "name": "ipython",
    "version": 3
   },
   "file_extension": ".py",
   "mimetype": "text/x-python",
   "name": "python",
   "nbconvert_exporter": "python",
   "pygments_lexer": "ipython3",
   "version": "3.8.8"
  }
 },
 "nbformat": 4,
 "nbformat_minor": 5
}
